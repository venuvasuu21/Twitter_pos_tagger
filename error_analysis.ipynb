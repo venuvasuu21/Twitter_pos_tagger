{
 "cells": [
  {
   "cell_type": "code",
   "execution_count": 98,
   "metadata": {
    "collapsed": false
   },
   "outputs": [],
   "source": [
    "import pandas as pd\n",
    "err_data = pd.DataFrame(columns = ['word', 'actual_tag', 'preprocessed_word', 'predicted_tag'])\n",
    "i = 0\n",
    "f = open('error_data.txt')\n",
    "for l in f.readlines():\n",
    "    words = l.split()\n",
    "    err_data.loc[i] = [words[0], words[1], words[2], words[3]]\n",
    "    i += 1"
   ]
  },
  {
   "cell_type": "code",
   "execution_count": 130,
   "metadata": {
    "collapsed": false,
    "scrolled": true
   },
   "outputs": [
    {
     "data": {
      "text/plain": [
       "V    1053\n",
       "N     981\n",
       ",     880\n",
       "P     616\n",
       "O     505\n",
       "^     495\n",
       "D     449\n",
       "A     367\n",
       "R     339\n",
       "@     330\n",
       "~     212\n",
       "!     186\n",
       "L     129\n",
       "&     127\n",
       "U     117\n",
       "$      85\n",
       "#      78\n",
       "G      70\n",
       "E      63\n",
       "T      36\n",
       "Z      22\n",
       "S       6\n",
       "X       6\n",
       "Name: actual_tag, dtype: int64"
      ]
     },
     "execution_count": 130,
     "metadata": {},
     "output_type": "execute_result"
    }
   ],
   "source": [
    "err_data['actual_tag'].value_counts()"
   ]
  },
  {
   "cell_type": "code",
   "execution_count": 97,
   "metadata": {
    "collapsed": false,
    "scrolled": true
   },
   "outputs": [
    {
     "name": "stdout",
     "output_type": "stream",
     "text": [
      "A    1\n",
      "Name: actual_tag, dtype: int64\n"
     ]
    },
    {
     "data": {
      "text/plain": [
       "A    1.0\n",
       "Name: actual_tag, dtype: float64"
      ]
     },
     "execution_count": 97,
     "metadata": {},
     "output_type": "execute_result"
    }
   ],
   "source": [
    "#This is how probabilities are estimated for each shape of the word\n",
    "#err_data['actual_tag'].value_counts()\n",
    "t1 = err_data[err_data.word.str.endswith('able', na=False)]\n",
    "#t1['predicted_tag'].value_counts()\n",
    "#t1[t1['predicted_tag']=='VBD']\n",
    "'''t2 = t1[t1['preprocessed_word']!='<emot>']\n",
    "t2[t2['predicted_tag']!='E']\n",
    "t1[t1['predicted_tag']!='N']'''\n",
    "print t1['actual_tag'].value_counts()\n",
    "t1['actual_tag'].value_counts(normalize=True)"
   ]
  },
  {
   "cell_type": "code",
   "execution_count": 122,
   "metadata": {
    "collapsed": false
   },
   "outputs": [
    {
     "name": "stdout",
     "output_type": "stream",
     "text": [
      "~ \t0.86320754717 \t,\n",
      "@ \t0.990909090909 \t!\n",
      "O \t0.940594059406 \tD\n",
      "V \t0.899335232669 \tN\n",
      "N \t0.814475025484 \t^\n",
      "D \t0.933184855234 \t!\n",
      "A \t0.722070844687 \tN\n",
      ", \t0.964772727273 \t~\n",
      "^ \t0.680808080808 \tN\n",
      "P \t0.923701298701 \tR\n",
      "R \t0.814159292035 \tP\n",
      "E \t0.825396825397 \t,\n",
      "U \t0.974358974359 \tN\n",
      "& \t0.976377952756 \t^\n",
      "T \t0.694444444444 \tP\n",
      "G \t0.2 \tG\n",
      "X \t0.333333333333 \tX\n",
      "# \t0.923076923077 \t^\n",
      "$ \t0.882352941176 \t^\n",
      "L \t0.852713178295 \t^\n",
      "! \t0.715053763441 \t^\n",
      "Z \t0.454545454545 \t^\n",
      "S \t0.5 \tZ\n"
     ]
    }
   ],
   "source": [
    "#Cal acurracy per tag and confused tag per tag\n",
    "tags_list = err_data.actual_tag.unique()\n",
    "for tag in tags_list:\n",
    "    err1 = err_data[err_data['actual_tag'] == tag]\n",
    "    l = float(len(err1[err1['predicted_tag'] == tag]))/len(err1)\n",
    "    print tag, '\\t',l, '\\t',err1.predicted_tag.value_counts().index[1]"
   ]
  }
 ],
 "metadata": {
  "kernelspec": {
   "display_name": "Python 2",
   "language": "python",
   "name": "python2"
  },
  "language_info": {
   "codemirror_mode": {
    "name": "ipython",
    "version": 2
   },
   "file_extension": ".py",
   "mimetype": "text/x-python",
   "name": "python",
   "nbconvert_exporter": "python",
   "pygments_lexer": "ipython2",
   "version": "2.7.12"
  }
 },
 "nbformat": 4,
 "nbformat_minor": 0
}
